{
 "cells": [
  {
   "cell_type": "code",
   "execution_count": 1,
   "metadata": {
    "collapsed": true
   },
   "outputs": [
    {
     "name": "stdout",
     "output_type": "stream",
     "text": [
      "https://g1.globo.com/busca/?q=protestos&order=recent&page=1&from=2019-10-01T00%3A00%3A00-0400&to=2019-10-21T23%3A59%3A59-0400\n",
      "https://g1.globo.com/busca/?q=protestos&order=recent&page=2&from=2019-10-01T00%3A00%3A00-0400&to=2019-10-21T23%3A59%3A59-0400\n",
      "https://g1.globo.com/busca/?q=protestos&order=recent&page=3&from=2019-10-01T00%3A00%3A00-0400&to=2019-10-21T23%3A59%3A59-0400\n",
      "https://g1.globo.com/busca/?q=protestos&order=recent&page=4&from=2019-10-01T00%3A00%3A00-0400&to=2019-10-21T23%3A59%3A59-0400\n",
      "https://g1.globo.com/busca/?q=protestos&order=recent&page=5&from=2019-10-01T00%3A00%3A00-0400&to=2019-10-21T23%3A59%3A59-0400\n",
      "https://g1.globo.com/busca/?q=protestos&order=recent&page=6&from=2019-10-01T00%3A00%3A00-0400&to=2019-10-21T23%3A59%3A59-0400\n",
      "https://g1.globo.com/busca/?q=protestos&order=recent&page=7&from=2019-10-01T00%3A00%3A00-0400&to=2019-10-21T23%3A59%3A59-0400\n",
      "https://g1.globo.com/busca/?q=protestos&order=recent&page=8&from=2019-10-01T00%3A00%3A00-0400&to=2019-10-21T23%3A59%3A59-0400\n",
      "https://g1.globo.com/busca/?q=protestos&order=recent&page=9&from=2019-10-01T00%3A00%3A00-0400&to=2019-10-21T23%3A59%3A59-0400\n",
      "https://g1.globo.com/busca/?q=protestos&order=recent&page=10&from=2019-10-01T00%3A00%3A00-0400&to=2019-10-21T23%3A59%3A59-0400\n",
      "https://g1.globo.com/busca/?q=protestos&order=recent&page=11&from=2019-10-01T00%3A00%3A00-0400&to=2019-10-21T23%3A59%3A59-0400\n",
      "https://g1.globo.com/busca/?q=protestos&order=recent&page=12&from=2019-10-01T00%3A00%3A00-0400&to=2019-10-21T23%3A59%3A59-0400\n",
      "https://g1.globo.com/busca/?q=protestos&order=recent&page=13&from=2019-10-01T00%3A00%3A00-0400&to=2019-10-21T23%3A59%3A59-0400\n",
      "https://g1.globo.com/busca/?q=protestos&order=recent&page=14&from=2019-10-01T00%3A00%3A00-0400&to=2019-10-21T23%3A59%3A59-0400\n",
      "https://g1.globo.com/busca/?q=protestos&order=recent&page=15&from=2019-10-01T00%3A00%3A00-0400&to=2019-10-21T23%3A59%3A59-0400\n",
      "https://g1.globo.com/busca/?q=protestos&order=recent&page=16&from=2019-10-01T00%3A00%3A00-0400&to=2019-10-21T23%3A59%3A59-0400\n",
      "https://g1.globo.com/busca/?q=protestos&order=recent&page=17&from=2019-10-01T00%3A00%3A00-0400&to=2019-10-21T23%3A59%3A59-0400\n",
      "https://g1.globo.com/busca/?q=protestos&order=recent&page=18&from=2019-10-01T00%3A00%3A00-0400&to=2019-10-21T23%3A59%3A59-0400\n",
      "https://g1.globo.com/busca/?q=protestos&order=recent&page=19&from=2019-10-01T00%3A00%3A00-0400&to=2019-10-21T23%3A59%3A59-0400\n",
      "https://g1.globo.com/busca/?q=protestos&order=recent&page=20&from=2019-10-01T00%3A00%3A00-0400&to=2019-10-21T23%3A59%3A59-0400\n",
      "https://g1.globo.com/busca/?q=protestos&order=recent&page=21&from=2019-10-01T00%3A00%3A00-0400&to=2019-10-21T23%3A59%3A59-0400\n",
      "https://g1.globo.com/busca/?q=protestos&order=recent&page=22&from=2019-10-01T00%3A00%3A00-0400&to=2019-10-21T23%3A59%3A59-0400\n",
      "https://g1.globo.com/busca/?q=protestos&order=recent&page=23&from=2019-10-01T00%3A00%3A00-0400&to=2019-10-21T23%3A59%3A59-0400\n",
      "https://g1.globo.com/busca/?q=protestos&order=recent&page=24&from=2019-10-01T00%3A00%3A00-0400&to=2019-10-21T23%3A59%3A59-0400\n",
      "https://g1.globo.com/busca/?q=protestos&order=recent&page=25&from=2019-10-01T00%3A00%3A00-0400&to=2019-10-21T23%3A59%3A59-0400\n",
      "https://g1.globo.com/busca/?q=protestos&order=recent&page=26&from=2019-10-01T00%3A00%3A00-0400&to=2019-10-21T23%3A59%3A59-0400\n",
      "https://g1.globo.com/busca/?q=protestos&order=recent&page=27&from=2019-10-01T00%3A00%3A00-0400&to=2019-10-21T23%3A59%3A59-0400\n",
      "https://g1.globo.com/busca/?q=protestos&order=recent&page=28&from=2019-10-01T00%3A00%3A00-0400&to=2019-10-21T23%3A59%3A59-0400\n",
      "https://g1.globo.com/busca/?q=protestos&order=recent&page=29&from=2019-10-01T00%3A00%3A00-0400&to=2019-10-21T23%3A59%3A59-0400\n",
      "https://g1.globo.com/busca/?q=protestos&order=recent&page=30&from=2019-10-01T00%3A00%3A00-0400&to=2019-10-21T23%3A59%3A59-0400\n",
      "https://g1.globo.com/busca/?q=protestos&order=recent&page=31&from=2019-10-01T00%3A00%3A00-0400&to=2019-10-21T23%3A59%3A59-0400\n",
      "https://g1.globo.com/busca/?q=protestos&order=recent&page=32&from=2019-10-01T00%3A00%3A00-0400&to=2019-10-21T23%3A59%3A59-0400\n",
      "https://g1.globo.com/busca/?q=protestos&order=recent&page=33&from=2019-10-01T00%3A00%3A00-0400&to=2019-10-21T23%3A59%3A59-0400\n",
      "https://g1.globo.com/busca/?q=protestos&order=recent&page=34&from=2019-10-01T00%3A00%3A00-0400&to=2019-10-21T23%3A59%3A59-0400\n",
      "https://g1.globo.com/busca/?q=protestos&order=recent&page=35&from=2019-10-01T00%3A00%3A00-0400&to=2019-10-21T23%3A59%3A59-0400\n",
      "https://g1.globo.com/busca/?q=protestos&order=recent&page=36&from=2019-10-01T00%3A00%3A00-0400&to=2019-10-21T23%3A59%3A59-0400\n",
      "https://g1.globo.com/busca/?q=protestos&order=recent&page=37&from=2019-10-01T00%3A00%3A00-0400&to=2019-10-21T23%3A59%3A59-0400\n",
      "https://g1.globo.com/busca/?q=protestos&order=recent&page=38&from=2019-10-01T00%3A00%3A00-0400&to=2019-10-21T23%3A59%3A59-0400\n",
      "https://g1.globo.com/busca/?q=protestos&order=recent&page=39&from=2019-10-01T00%3A00%3A00-0400&to=2019-10-21T23%3A59%3A59-0400\n",
      "https://g1.globo.com/busca/?q=protestos&order=recent&page=40&from=2019-10-01T00%3A00%3A00-0400&to=2019-10-21T23%3A59%3A59-0400\n"
     ]
    }
   ],
   "source": [
    "import csv\n",
    "from selenium import webdriver\n",
    "\n",
    "#csv\n",
    "\n",
    "with open('database.csv', 'w') as f:\n",
    "\tf.write(\"Titulo;Descri;Dia \\n\")\n",
    "\n",
    "#Dates to go Through\n",
    "jan17 = ['2017-01-01','2017-01-31']\n",
    "\n",
    "jan18 = ['2018-01-01','2018-01-31']\n",
    "\n",
    "jan19 = ['2019-01-01','2019-01-31']\n",
    "\n",
    "meses = [jan17, jan18, jan19]\n",
    "\n",
    "#Web Driver\n",
    "\n",
    "driver = webdriver.Chrome()\n",
    "\n",
    "#going to the website\n",
    "\n",
    "for k,j in meses:\n",
    "    for i in range(1, 3):\n",
    "        url = \"https://g1.globo.com/busca/?q=protestos&order=recent&page=\" + str(i) + '&from=' + k +'T00%3A00%3A00-0400' + '&to='+ j + 'T23%3A59%3A59-0400'\n",
    "        print(url)\n",
    "\n",
    "        driver.get(url)\n",
    "\n",
    "        titulo = driver.find_elements_by_xpath('//div[@class=\"widget--info__title product-color \"]')\n",
    "        descri = driver.find_elements_by_xpath('//p[@class=\"widget--info__description\"]')\n",
    "        dia = driver.find_elements_by_xpath('//div[@class=\"widget--info__meta\"]')\n",
    "\n",
    "        num_page_items = len(titulo)\n",
    "        with open('versao1.csv', 'a') as f:\n",
    "            for i in range(num_page_items):\n",
    "                f.write(titulo[i].text + \";\" + descri[i].text + \";\" + dia[i].text + \"\\n\")\n",
    "\n",
    "\n",
    "#close drive when its complete\n",
    "driver.close()\n",
    "\n"
   ]
  }
 ],
 "metadata": {
  "kernelspec": {
   "display_name": "Python 3",
   "language": "python",
   "name": "python3"
  },
  "language_info": {
   "codemirror_mode": {
    "name": "ipython",
    "version": 3
   },
   "file_extension": ".py",
   "mimetype": "text/x-python",
   "name": "python",
   "nbconvert_exporter": "python",
   "pygments_lexer": "ipython3",
   "version": "3.7.3"
  }
 },
 "nbformat": 4,
 "nbformat_minor": 2
}
